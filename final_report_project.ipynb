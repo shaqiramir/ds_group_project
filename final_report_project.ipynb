{
 "cells": [
  {
   "cell_type": "markdown",
   "id": "ad435283-4f56-40ae-a678-f54d033a4836",
   "metadata": {},
   "source": [
    "# DSCI Group Project - final report\n",
    "\n",
    "**Group members:** Julie Long, Jada Peng, Shaqir Amir\n",
    "\n",
    "**Group number:** 005-46"
   ]
  },
  {
   "cell_type": "markdown",
   "id": "d064f03b-5139-4f9b-a5c9-f59b2530c40d",
   "metadata": {},
   "source": [
    "# Introduction"
   ]
  },
  {
   "cell_type": "code",
   "execution_count": null,
   "id": "6d705ff7-67dd-4237-b85b-32bd321d6c13",
   "metadata": {},
   "outputs": [],
   "source": []
  }
 ],
 "metadata": {
  "kernelspec": {
   "display_name": "R",
   "language": "R",
   "name": "ir"
  },
  "language_info": {
   "codemirror_mode": "r",
   "file_extension": ".r",
   "mimetype": "text/x-r-source",
   "name": "R",
   "pygments_lexer": "r",
   "version": "4.3.3"
  }
 },
 "nbformat": 4,
 "nbformat_minor": 5
}
