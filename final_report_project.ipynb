{
 "cells": [
  {
   "cell_type": "markdown",
   "id": "ad435283-4f56-40ae-a678-f54d033a4836",
   "metadata": {},
   "source": [
    "# DSCI Group Project - final report\n",
    "\n",
    "**Group members:** Julie Long, Jada Peng, Shaqir Amir\n",
    "\n",
    "**Group number:** 005-46"
   ]
  },
  {
   "cell_type": "code",
   "execution_count": null,
   "id": "139bf8bb-cf48-4e27-8fc2-788db534eb4e",
   "metadata": {},
   "outputs": [],
   "source": []
  }
 ],
 "metadata": {
  "kernelspec": {
   "display_name": "R",
   "language": "R",
   "name": "ir"
  },
  "language_info": {
   "codemirror_mode": "r",
   "file_extension": ".r",
   "mimetype": "text/x-r-source",
   "name": "R",
   "pygments_lexer": "r",
   "version": "4.3.3"
  }
 },
 "nbformat": 4,
 "nbformat_minor": 5
}
