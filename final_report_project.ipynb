{
 "cells": [
  {
   "cell_type": "code",
   "execution_count": 1,
   "id": "6d705ff7-67dd-4237-b85b-32bd321d6c13",
   "metadata": {},
   "outputs": [
    {
     "name": "stderr",
     "output_type": "stream",
     "text": [
      "── \u001b[1mAttaching core tidyverse packages\u001b[22m ──────────────────────── tidyverse 2.0.0 ──\n",
      "\u001b[32m✔\u001b[39m \u001b[34mdplyr    \u001b[39m 1.1.4     \u001b[32m✔\u001b[39m \u001b[34mreadr    \u001b[39m 2.1.5\n",
      "\u001b[32m✔\u001b[39m \u001b[34mforcats  \u001b[39m 1.0.0     \u001b[32m✔\u001b[39m \u001b[34mstringr  \u001b[39m 1.5.1\n",
      "\u001b[32m✔\u001b[39m \u001b[34mggplot2  \u001b[39m 3.5.1     \u001b[32m✔\u001b[39m \u001b[34mtibble   \u001b[39m 3.2.1\n",
      "\u001b[32m✔\u001b[39m \u001b[34mlubridate\u001b[39m 1.9.3     \u001b[32m✔\u001b[39m \u001b[34mtidyr    \u001b[39m 1.3.1\n",
      "\u001b[32m✔\u001b[39m \u001b[34mpurrr    \u001b[39m 1.0.2     \n",
      "── \u001b[1mConflicts\u001b[22m ────────────────────────────────────────── tidyverse_conflicts() ──\n",
      "\u001b[31m✖\u001b[39m \u001b[34mdplyr\u001b[39m::\u001b[32mfilter()\u001b[39m masks \u001b[34mstats\u001b[39m::filter()\n",
      "\u001b[31m✖\u001b[39m \u001b[34mdplyr\u001b[39m::\u001b[32mlag()\u001b[39m    masks \u001b[34mstats\u001b[39m::lag()\n",
      "\u001b[36mℹ\u001b[39m Use the conflicted package (\u001b[3m\u001b[34m<http://conflicted.r-lib.org/>\u001b[39m\u001b[23m) to force all conflicts to become errors\n"
     ]
    }
   ],
   "source": [
    "library(tidyverse)\n",
    "library(RColorBrewer)"
   ]
  },
  {
   "cell_type": "markdown",
   "id": "ad435283-4f56-40ae-a678-f54d033a4836",
   "metadata": {},
   "source": [
    "# DSCI Group Project - final report\n",
    "\n",
    "**Group members:** Julie Long, Jada Peng, Shaqir Amir\n",
    "\n",
    "**Group number:** 005-46"
   ]
  },
  {
   "cell_type": "markdown",
   "id": "d064f03b-5139-4f9b-a5c9-f59b2530c40d",
   "metadata": {},
   "source": [
    "# Introduction\n",
    "\n",
    "The data for the group project comes from the PLAICraft research at UBC. This research involves players logging into a Minecraft server to train the AI to have more human-like speech (PLAICraft). Any participants are welcome to join and contribute to the research, for which the researchers will ask about their personal data and their logs on the server. \n",
    "\n",
    "The data that they provided is split into two separate .csv files: `players.csv` and `sessions.csv`. `players.csv` contains all the personal data of the participants, such as name, age, gender, email (hashed), subscription to the newsletter, previous experience, and cumulative hours played. Meanwhile, sessions.csv logs the start and end time for each session for each player, linked through hashed email.\n",
    "\n",
    "Given the data, this group is interested in a predictive analysis based on the personal data given to answer the following questions.\n",
    "\n",
    "**Specific:** Can the total hours played and age be used to predict the player’s experience level?\n",
    "\n",
    "This question is interesting as it explores whether a player’s experience is dependent on the time dedicated and age familiarity. … To analyze, we would need the `played_hours` and `age` variables in `players.csv`. `played_hours` is a double precision variable that sums up how much that player spent on the server. `age` is an integer variable that just describes the player’s age.\n",
    "\n",
    "\n"
   ]
  },
  {
   "cell_type": "code",
   "execution_count": null,
   "id": "4d606249-b168-4a7f-b142-351bfb820ead",
   "metadata": {},
   "outputs": [],
   "source": []
  }
 ],
 "metadata": {
  "kernelspec": {
   "display_name": "R",
   "language": "R",
   "name": "ir"
  },
  "language_info": {
   "codemirror_mode": "r",
   "file_extension": ".r",
   "mimetype": "text/x-r-source",
   "name": "R",
   "pygments_lexer": "r",
   "version": "4.3.3"
  }
 },
 "nbformat": 4,
 "nbformat_minor": 5
}
