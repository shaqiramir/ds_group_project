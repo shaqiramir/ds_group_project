{
 "cells": [
  {
   "cell_type": "markdown",
   "id": "a3a5722e-a466-4f2a-bc34-d8b338d7c4d2",
   "metadata": {},
   "source": [
    "test test blah blah blah"
   ]
  },
  {
   "cell_type": "code",
   "execution_count": null,
   "id": "f801b49c-2ba8-44b6-ad2e-4d29336b4987",
   "metadata": {},
   "outputs": [],
   "source": []
  }
 ],
 "metadata": {
  "kernelspec": {
   "display_name": "R",
   "language": "R",
   "name": "ir"
  },
  "language_info": {
   "codemirror_mode": "r",
   "file_extension": ".r",
   "mimetype": "text/x-r-source",
   "name": "R",
   "pygments_lexer": "r",
   "version": "4.3.3"
  }
 },
 "nbformat": 4,
 "nbformat_minor": 5
}
